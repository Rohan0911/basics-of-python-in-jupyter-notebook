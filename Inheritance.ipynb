{
 "cells": [
  {
   "cell_type": "markdown",
   "id": "7451532d",
   "metadata": {},
   "source": [
    "# Inheritance"
   ]
  },
  {
   "cell_type": "markdown",
   "id": "0cfea507",
   "metadata": {},
   "source": [
    "# single Inheritance"
   ]
  },
  {
   "cell_type": "code",
   "execution_count": 1,
   "id": "9972acb3",
   "metadata": {},
   "outputs": [],
   "source": [
    "class rohan():\n",
    "    def __init__(self,a,b,c):\n",
    "        self.a=a\n",
    "        self.b=b\n",
    "        self.c=c\n",
    "        \n",
    "    def test(self):\n",
    "        print(\"this is first method\")\n",
    "    def test1(self):\n",
    "        print(\"this is second method\")\n",
    "    def test2(self):\n",
    "        print(\"this is third method\")"
   ]
  },
  {
   "cell_type": "code",
   "execution_count": 2,
   "id": "bccdc3d1",
   "metadata": {},
   "outputs": [],
   "source": [
    "r=rohan(1,2,3)"
   ]
  },
  {
   "cell_type": "code",
   "execution_count": 3,
   "id": "58807cc8",
   "metadata": {},
   "outputs": [
    {
     "data": {
      "text/plain": [
       "1"
      ]
     },
     "execution_count": 3,
     "metadata": {},
     "output_type": "execute_result"
    }
   ],
   "source": [
    "r.a"
   ]
  },
  {
   "cell_type": "code",
   "execution_count": 7,
   "id": "fb8c8541",
   "metadata": {},
   "outputs": [
    {
     "name": "stdout",
     "output_type": "stream",
     "text": [
      "this is first method\n"
     ]
    }
   ],
   "source": [
    "r.test()"
   ]
  },
  {
   "cell_type": "code",
   "execution_count": 8,
   "id": "127cd955",
   "metadata": {},
   "outputs": [
    {
     "name": "stdout",
     "output_type": "stream",
     "text": [
      "this is second method\n"
     ]
    }
   ],
   "source": [
    "r.test1()"
   ]
  },
  {
   "cell_type": "code",
   "execution_count": 9,
   "id": "9828f9db",
   "metadata": {},
   "outputs": [
    {
     "name": "stdout",
     "output_type": "stream",
     "text": [
      "this is third method\n"
     ]
    }
   ],
   "source": [
    "r.test2()"
   ]
  },
  {
   "cell_type": "code",
   "execution_count": 11,
   "id": "904574e2",
   "metadata": {},
   "outputs": [
    {
     "data": {
      "text/plain": [
       "3"
      ]
     },
     "execution_count": 11,
     "metadata": {},
     "output_type": "execute_result"
    }
   ],
   "source": [
    "r.c"
   ]
  },
  {
   "cell_type": "code",
   "execution_count": 16,
   "id": "82b17d8c",
   "metadata": {},
   "outputs": [],
   "source": [
    "class rohan1(rohan):\n",
    "    pass"
   ]
  },
  {
   "cell_type": "code",
   "execution_count": 17,
   "id": "fd059514",
   "metadata": {},
   "outputs": [],
   "source": [
    "r1=rohan1(10,20,30)"
   ]
  },
  {
   "cell_type": "code",
   "execution_count": 18,
   "id": "c3fbc13a",
   "metadata": {},
   "outputs": [
    {
     "data": {
      "text/plain": [
       "10"
      ]
     },
     "execution_count": 18,
     "metadata": {},
     "output_type": "execute_result"
    }
   ],
   "source": [
    "r1.a"
   ]
  },
  {
   "cell_type": "code",
   "execution_count": 19,
   "id": "1771788e",
   "metadata": {},
   "outputs": [
    {
     "data": {
      "text/plain": [
       "20"
      ]
     },
     "execution_count": 19,
     "metadata": {},
     "output_type": "execute_result"
    }
   ],
   "source": [
    "r1.b"
   ]
  },
  {
   "cell_type": "code",
   "execution_count": 20,
   "id": "31ca8c0a",
   "metadata": {},
   "outputs": [
    {
     "data": {
      "text/plain": [
       "30"
      ]
     },
     "execution_count": 20,
     "metadata": {},
     "output_type": "execute_result"
    }
   ],
   "source": [
    "r1.c"
   ]
  },
  {
   "cell_type": "code",
   "execution_count": 21,
   "id": "f1002b21",
   "metadata": {},
   "outputs": [
    {
     "name": "stdout",
     "output_type": "stream",
     "text": [
      "this is first method\n",
      "this is second method\n",
      "this is third method\n"
     ]
    }
   ],
   "source": [
    "r1.test()\n",
    "r1.test1()\n",
    "r1.test2()"
   ]
  },
  {
   "cell_type": "code",
   "execution_count": 22,
   "id": "692e7550",
   "metadata": {},
   "outputs": [
    {
     "name": "stdout",
     "output_type": "stream",
     "text": [
      "this is first method\n",
      "this is second method\n",
      "this is third method\n",
      "None None None\n"
     ]
    }
   ],
   "source": [
    "print(r1.test(),r1.test1(),r1.test2())"
   ]
  },
  {
   "cell_type": "code",
   "execution_count": 28,
   "id": "66eb6e97",
   "metadata": {},
   "outputs": [],
   "source": [
    "class rohan1(rohan):\n",
    "    def test3(self):\n",
    "        print(\"this is forth method\")"
   ]
  },
  {
   "cell_type": "code",
   "execution_count": 29,
   "id": "8b59e916",
   "metadata": {},
   "outputs": [],
   "source": [
    "r2=rohan1(20,30,40)"
   ]
  },
  {
   "cell_type": "code",
   "execution_count": 30,
   "id": "b89d5015",
   "metadata": {},
   "outputs": [
    {
     "data": {
      "text/plain": [
       "20"
      ]
     },
     "execution_count": 30,
     "metadata": {},
     "output_type": "execute_result"
    }
   ],
   "source": [
    "r2.a"
   ]
  },
  {
   "cell_type": "code",
   "execution_count": 31,
   "id": "d735e455",
   "metadata": {},
   "outputs": [
    {
     "name": "stdout",
     "output_type": "stream",
     "text": [
      "this is forth method\n"
     ]
    }
   ],
   "source": [
    "r2.test3()"
   ]
  },
  {
   "cell_type": "code",
   "execution_count": 34,
   "id": "df8ca4be",
   "metadata": {},
   "outputs": [],
   "source": [
    "class rohan():\n",
    "    def __init__(self,a,b,c):\n",
    "        self.a=a\n",
    "        self.b=b\n",
    "        self.c=c\n",
    "        \n",
    "    def test(self):\n",
    "        print(\"this is first multiple inheritance\")\n",
    "        \n",
    "class rohan1():\n",
    "    def __init__(self,x,y,z):\n",
    "        self.x=x\n",
    "        self.y=y\n",
    "        self.z=z\n",
    "        \n",
    "    def test1(self):\n",
    "        print(\"this is second parent multiple inheritance\")\n",
    "        \n",
    "class child(rohan,rohan1):\n",
    "    pass"
   ]
  },
  {
   "cell_type": "code",
   "execution_count": 36,
   "id": "d6d66a5d",
   "metadata": {},
   "outputs": [],
   "source": [
    "r1=child(10,20,30)"
   ]
  },
  {
   "cell_type": "code",
   "execution_count": 37,
   "id": "d1309155",
   "metadata": {},
   "outputs": [
    {
     "data": {
      "text/plain": [
       "10"
      ]
     },
     "execution_count": 37,
     "metadata": {},
     "output_type": "execute_result"
    }
   ],
   "source": [
    "r1.a"
   ]
  },
  {
   "cell_type": "code",
   "execution_count": 39,
   "id": "a90cddbe",
   "metadata": {},
   "outputs": [
    {
     "data": {
      "text/plain": [
       "20"
      ]
     },
     "execution_count": 39,
     "metadata": {},
     "output_type": "execute_result"
    }
   ],
   "source": [
    "r1.b"
   ]
  },
  {
   "cell_type": "code",
   "execution_count": 40,
   "id": "742281ff",
   "metadata": {},
   "outputs": [
    {
     "name": "stdout",
     "output_type": "stream",
     "text": [
      "this is first multiple inheritance\n"
     ]
    }
   ],
   "source": [
    "r1.test()"
   ]
  },
  {
   "cell_type": "code",
   "execution_count": 41,
   "id": "71bb9c85",
   "metadata": {},
   "outputs": [
    {
     "name": "stdout",
     "output_type": "stream",
     "text": [
      "this is second parent multiple inheritance\n"
     ]
    }
   ],
   "source": [
    "r1.test1()"
   ]
  },
  {
   "cell_type": "code",
   "execution_count": 42,
   "id": "b4f7a67e",
   "metadata": {},
   "outputs": [
    {
     "data": {
      "text/plain": [
       "(10, 20, 30)"
      ]
     },
     "execution_count": 42,
     "metadata": {},
     "output_type": "execute_result"
    }
   ],
   "source": [
    "r1.a,r1.b,r1.c"
   ]
  },
  {
   "cell_type": "code",
   "execution_count": 49,
   "id": "0c09bf5b",
   "metadata": {},
   "outputs": [],
   "source": [
    "class rohan():\n",
    "    def __init__(self,a,b,c):\n",
    "        self.a=a\n",
    "        self.b=b\n",
    "        self.c=c\n",
    "        \n",
    "    def test(self):\n",
    "        print(\"this is first multiple inheritance\")\n",
    "        \n",
    "class rohan1():\n",
    "    def __init__(self,x,y,z):\n",
    "        self.x=x\n",
    "        self.y=y\n",
    "        self.z=z\n",
    "        \n",
    "    def test1(self):\n",
    "        print(\"this is second parent multiple inheritance\")\n",
    "        \n",
    "class child(rohan,rohan1):\n",
    "    def __init__(self,*args,**kwargs):\n",
    "        rohan.__init__(self,**kwargs)\n",
    "        rohan1.__init__(self,*args)"
   ]
  },
  {
   "cell_type": "code",
   "execution_count": 52,
   "id": "21dcab80",
   "metadata": {},
   "outputs": [],
   "source": [
    "r2=child(45,18,7,a=10,b=20,c=30)"
   ]
  },
  {
   "cell_type": "code",
   "execution_count": 53,
   "id": "c1650521",
   "metadata": {},
   "outputs": [
    {
     "data": {
      "text/plain": [
       "45"
      ]
     },
     "execution_count": 53,
     "metadata": {},
     "output_type": "execute_result"
    }
   ],
   "source": [
    "r2.x"
   ]
  },
  {
   "cell_type": "code",
   "execution_count": 54,
   "id": "4b329109",
   "metadata": {},
   "outputs": [
    {
     "data": {
      "text/plain": [
       "18"
      ]
     },
     "execution_count": 54,
     "metadata": {},
     "output_type": "execute_result"
    }
   ],
   "source": [
    "r2.y"
   ]
  },
  {
   "cell_type": "code",
   "execution_count": 55,
   "id": "daab59b5",
   "metadata": {},
   "outputs": [
    {
     "data": {
      "text/plain": [
       "10"
      ]
     },
     "execution_count": 55,
     "metadata": {},
     "output_type": "execute_result"
    }
   ],
   "source": [
    "r2.a"
   ]
  },
  {
   "cell_type": "code",
   "execution_count": 56,
   "id": "590bbe2d",
   "metadata": {},
   "outputs": [],
   "source": [
    "class rohan():\n",
    "    def __init__(self,a,b,c,d):\n",
    "        self.a=a\n",
    "        self.b=b\n",
    "        self.c=c\n",
    "        self.d=d\n",
    "        \n",
    "    def test(self):\n",
    "        print(\"this is first multiple inheritance\")\n",
    "        \n",
    "class rohan1():\n",
    "    def __init__(self,x,y,z):\n",
    "        self.x=x\n",
    "        self.y=y\n",
    "        self.z=z\n",
    "        \n",
    "    def test1(self):\n",
    "        print(\"this is second parent multiple inheritance\")\n",
    "        \n",
    "class child(rohan,rohan1):\n",
    "    def __init__(self,*args,**kwargs):\n",
    "        rohan.__init__(self,*args)\n",
    "        rohan1.__init__(self,**kwargs)\n",
    "   "
   ]
  },
  {
   "cell_type": "code",
   "execution_count": 63,
   "id": "80c9dffd",
   "metadata": {},
   "outputs": [],
   "source": [
    "r3=child(10,20,30,40,x=\"rohan\",y=\"ramesh\",z=\"jadhav\")"
   ]
  },
  {
   "cell_type": "code",
   "execution_count": 64,
   "id": "d1713f03",
   "metadata": {},
   "outputs": [
    {
     "data": {
      "text/plain": [
       "'ramesh'"
      ]
     },
     "execution_count": 64,
     "metadata": {},
     "output_type": "execute_result"
    }
   ],
   "source": [
    "r3.y"
   ]
  },
  {
   "cell_type": "code",
   "execution_count": 65,
   "id": "44589250",
   "metadata": {},
   "outputs": [
    {
     "data": {
      "text/plain": [
       "10"
      ]
     },
     "execution_count": 65,
     "metadata": {},
     "output_type": "execute_result"
    }
   ],
   "source": [
    "r3.a"
   ]
  },
  {
   "cell_type": "code",
   "execution_count": 66,
   "id": "4303ef6a",
   "metadata": {},
   "outputs": [
    {
     "data": {
      "text/plain": [
       "40"
      ]
     },
     "execution_count": 66,
     "metadata": {},
     "output_type": "execute_result"
    }
   ],
   "source": [
    "r3.d"
   ]
  },
  {
   "cell_type": "code",
   "execution_count": 67,
   "id": "9f199ea7",
   "metadata": {},
   "outputs": [
    {
     "data": {
      "text/plain": [
       "'jadhav'"
      ]
     },
     "execution_count": 67,
     "metadata": {},
     "output_type": "execute_result"
    }
   ],
   "source": [
    "r3.z"
   ]
  },
  {
   "cell_type": "code",
   "execution_count": 69,
   "id": "e2a01b94",
   "metadata": {},
   "outputs": [
    {
     "data": {
      "text/plain": [
       "('rohan', 'ramesh', 'jadhav')"
      ]
     },
     "execution_count": 69,
     "metadata": {},
     "output_type": "execute_result"
    }
   ],
   "source": [
    "r3.x,r3.y,r3.z"
   ]
  },
  {
   "cell_type": "code",
   "execution_count": 70,
   "id": "827da122",
   "metadata": {},
   "outputs": [],
   "source": [
    "class rohan():\n",
    "    def __init__(self,a,b,c):\n",
    "        self.a=a\n",
    "        self.b=b\n",
    "        self.c=c\n",
    "        \n",
    "    def test(self):\n",
    "        print(\"this is  first parent class\")\n",
    "        \n",
    "class rohan1(rohan):\n",
    "    def test1(self):\n",
    "        print(\"this is second class\")\n",
    "        \n",
    "class rohan2(rohan1):\n",
    "    def test2(self):\n",
    "        print(\"this is third class\")\n",
    "        \n",
    "class child(rohan2):\n",
    "    def test(self):\n",
    "        print(\"this is child class\")"
   ]
  },
  {
   "cell_type": "code",
   "execution_count": 71,
   "id": "07bd221f",
   "metadata": {},
   "outputs": [],
   "source": [
    "r1=child(10,20,30)"
   ]
  },
  {
   "cell_type": "code",
   "execution_count": 72,
   "id": "5ca88484",
   "metadata": {},
   "outputs": [
    {
     "data": {
      "text/plain": [
       "10"
      ]
     },
     "execution_count": 72,
     "metadata": {},
     "output_type": "execute_result"
    }
   ],
   "source": [
    "r1.a"
   ]
  },
  {
   "cell_type": "code",
   "execution_count": 73,
   "id": "51f2e920",
   "metadata": {},
   "outputs": [
    {
     "data": {
      "text/plain": [
       "20"
      ]
     },
     "execution_count": 73,
     "metadata": {},
     "output_type": "execute_result"
    }
   ],
   "source": [
    "r1.b"
   ]
  },
  {
   "cell_type": "code",
   "execution_count": 74,
   "id": "9897ac41",
   "metadata": {},
   "outputs": [
    {
     "data": {
      "text/plain": [
       "30"
      ]
     },
     "execution_count": 74,
     "metadata": {},
     "output_type": "execute_result"
    }
   ],
   "source": [
    "r1.c"
   ]
  },
  {
   "cell_type": "code",
   "execution_count": 75,
   "id": "65d28240",
   "metadata": {},
   "outputs": [],
   "source": [
    "r2=rohan2(11,22,33)"
   ]
  },
  {
   "cell_type": "code",
   "execution_count": 76,
   "id": "90f6afb2",
   "metadata": {},
   "outputs": [
    {
     "data": {
      "text/plain": [
       "(11, 22, 33)"
      ]
     },
     "execution_count": 76,
     "metadata": {},
     "output_type": "execute_result"
    }
   ],
   "source": [
    "r2.a,r2.b,r2.c"
   ]
  },
  {
   "cell_type": "code",
   "execution_count": 77,
   "id": "a442be2f",
   "metadata": {},
   "outputs": [
    {
     "name": "stdout",
     "output_type": "stream",
     "text": [
      "this is third class\n"
     ]
    }
   ],
   "source": [
    "r2.test2()"
   ]
  },
  {
   "cell_type": "markdown",
   "id": "7bd373a2",
   "metadata": {},
   "source": [
    "# Encapsulation"
   ]
  },
  {
   "cell_type": "code",
   "execution_count": 79,
   "id": "a15b9f0b",
   "metadata": {},
   "outputs": [],
   "source": [
    "class rohan():\n",
    "    def __init__(self,a,b,c):\n",
    "        self.__a=a\n",
    "        self._b=b\n",
    "        self.c=c\n",
    "        \n",
    "r1=rohan(11,22,33)"
   ]
  },
  {
   "cell_type": "code",
   "execution_count": 80,
   "id": "7211b0a8",
   "metadata": {},
   "outputs": [
    {
     "data": {
      "text/plain": [
       "33"
      ]
     },
     "execution_count": 80,
     "metadata": {},
     "output_type": "execute_result"
    }
   ],
   "source": [
    "r1.c"
   ]
  },
  {
   "cell_type": "code",
   "execution_count": 81,
   "id": "d0235be5",
   "metadata": {},
   "outputs": [
    {
     "data": {
      "text/plain": [
       "22"
      ]
     },
     "execution_count": 81,
     "metadata": {},
     "output_type": "execute_result"
    }
   ],
   "source": [
    "r1._b"
   ]
  },
  {
   "cell_type": "code",
   "execution_count": 83,
   "id": "e3615e4b",
   "metadata": {},
   "outputs": [
    {
     "data": {
      "text/plain": [
       "11"
      ]
     },
     "execution_count": 83,
     "metadata": {},
     "output_type": "execute_result"
    }
   ],
   "source": [
    "r1._rohan__a"
   ]
  },
  {
   "cell_type": "markdown",
   "id": "082e65fd",
   "metadata": {},
   "source": [
    "# scope and variable"
   ]
  },
  {
   "cell_type": "code",
   "execution_count": 1,
   "id": "e93382c6",
   "metadata": {},
   "outputs": [],
   "source": [
    "class rohan():\n",
    "    def __init__(self,a,b,c):\n",
    "        self.__a=a\n",
    "        self._b=b\n",
    "        self.c=c\n",
    "        \n",
    "class rohan1(rohan):\n",
    "    pass\n",
    "r1=rohan(10,45,65)"
   ]
  },
  {
   "cell_type": "code",
   "execution_count": 2,
   "id": "dca68c5b",
   "metadata": {},
   "outputs": [
    {
     "data": {
      "text/plain": [
       "65"
      ]
     },
     "execution_count": 2,
     "metadata": {},
     "output_type": "execute_result"
    }
   ],
   "source": [
    "r1.c"
   ]
  },
  {
   "cell_type": "code",
   "execution_count": 3,
   "id": "343e3c4f",
   "metadata": {},
   "outputs": [
    {
     "ename": "AttributeError",
     "evalue": "'rohan' object has no attribute '_rohan1__a'",
     "output_type": "error",
     "traceback": [
      "\u001b[0;31m---------------------------------------------------------------------------\u001b[0m",
      "\u001b[0;31mAttributeError\u001b[0m                            Traceback (most recent call last)",
      "\u001b[0;32m/tmp/ipykernel_1976/36189207.py\u001b[0m in \u001b[0;36m<module>\u001b[0;34m\u001b[0m\n\u001b[0;32m----> 1\u001b[0;31m \u001b[0mr1\u001b[0m\u001b[0;34m.\u001b[0m\u001b[0m_rohan1__a\u001b[0m   \u001b[0;31m#to acess private variable.\u001b[0m\u001b[0;34m\u001b[0m\u001b[0;34m\u001b[0m\u001b[0m\n\u001b[0m",
      "\u001b[0;31mAttributeError\u001b[0m: 'rohan' object has no attribute '_rohan1__a'"
     ]
    }
   ],
   "source": [
    "r1._rohan1__a   #to acess private variable."
   ]
  },
  {
   "cell_type": "code",
   "execution_count": 4,
   "id": "0279d2dc",
   "metadata": {},
   "outputs": [
    {
     "data": {
      "text/plain": [
       "10"
      ]
     },
     "execution_count": 4,
     "metadata": {},
     "output_type": "execute_result"
    }
   ],
   "source": [
    "r1._rohan__a"
   ]
  },
  {
   "cell_type": "code",
   "execution_count": 5,
   "id": "253e75c8",
   "metadata": {},
   "outputs": [
    {
     "data": {
      "text/plain": [
       "45"
      ]
     },
     "execution_count": 5,
     "metadata": {},
     "output_type": "execute_result"
    }
   ],
   "source": [
    "r1._b     #to acess protected variable."
   ]
  },
  {
   "cell_type": "code",
   "execution_count": 6,
   "id": "ace3224e",
   "metadata": {},
   "outputs": [
    {
     "data": {
      "text/plain": [
       "65"
      ]
     },
     "execution_count": 6,
     "metadata": {},
     "output_type": "execute_result"
    }
   ],
   "source": [
    "r1.c"
   ]
  },
  {
   "cell_type": "code",
   "execution_count": null,
   "id": "0ab4af4a",
   "metadata": {},
   "outputs": [],
   "source": []
  }
 ],
 "metadata": {
  "kernelspec": {
   "display_name": "Python 3 (ipykernel)",
   "language": "python",
   "name": "python3"
  },
  "language_info": {
   "codemirror_mode": {
    "name": "ipython",
    "version": 3
   },
   "file_extension": ".py",
   "mimetype": "text/x-python",
   "name": "python",
   "nbconvert_exporter": "python",
   "pygments_lexer": "ipython3",
   "version": "3.9.7"
  }
 },
 "nbformat": 4,
 "nbformat_minor": 5
}
